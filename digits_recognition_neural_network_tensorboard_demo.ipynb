{
 "cells": [
  {
   "cell_type": "markdown",
   "metadata": {},
   "source": [
    "<h2 style=\"color:blue\" align=\"center\">Tensorboard demo using handwritten digits classification using neural network</h2>"
   ]
  },
  {
   "cell_type": "markdown",
   "metadata": {},
   "source": [
    "In this notebook we will classify handwritten digits using a simple neural network which has only input and output layers. We will than add a hidden layer and see how the performance of the model improves"
   ]
  },
  {
   "cell_type": "code",
   "execution_count": 3,
   "metadata": {},
   "outputs": [],
   "source": [
    "import tensorflow as tf\n",
    "from tensorflow import keras\n",
    "import matplotlib.pyplot as plt\n",
    "%matplotlib inline\n",
    "import numpy as np"
   ]
  },
  {
   "cell_type": "code",
   "execution_count": 4,
   "metadata": {},
   "outputs": [],
   "source": [
    "(X_train, y_train) , (X_test, y_test) = keras.datasets.mnist.load_data()"
   ]
  },
  {
   "cell_type": "code",
   "execution_count": 5,
   "metadata": {},
   "outputs": [
    {
     "data": {
      "text/plain": [
       "60000"
      ]
     },
     "execution_count": 5,
     "metadata": {},
     "output_type": "execute_result"
    }
   ],
   "source": [
    "len(X_train)"
   ]
  },
  {
   "cell_type": "code",
   "execution_count": 6,
   "metadata": {},
   "outputs": [
    {
     "data": {
      "text/plain": [
       "10000"
      ]
     },
     "execution_count": 6,
     "metadata": {},
     "output_type": "execute_result"
    }
   ],
   "source": [
    "len(X_test)"
   ]
  },
  {
   "cell_type": "code",
   "execution_count": 7,
   "metadata": {},
   "outputs": [
    {
     "data": {
      "text/plain": [
       "(28, 28)"
      ]
     },
     "execution_count": 7,
     "metadata": {},
     "output_type": "execute_result"
    }
   ],
   "source": [
    "X_train[0].shape"
   ]
  },
  {
   "cell_type": "code",
   "execution_count": 8,
   "metadata": {},
   "outputs": [
    {
     "data": {
      "text/plain": [
       "<matplotlib.image.AxesImage at 0x1fa5ad9a9c0>"
      ]
     },
     "execution_count": 8,
     "metadata": {},
     "output_type": "execute_result"
    },
    {
     "data": {
      "image/png": "[encoded data removed]",
      "text/plain": [
       "<Figure size 480x480 with 1 Axes>"
      ]
     },
     "metadata": {},
     "output_type": "display_data"
    }
   ],
   "source": [
    "plt.matshow(X_train[0])"
   ]
  },
  {
   "cell_type": "code",
   "execution_count": 9,
   "metadata": {},
   "outputs": [
    {
     "data": {
      "text/plain": [
       "5"
      ]
     },
     "execution_count": 9,
     "metadata": {},
     "output_type": "execute_result"
    }
   ],
   "source": [
    "y_train[0]"
   ]
  },
  {
   "cell_type": "code",
   "execution_count": 10,
   "metadata": {},
   "outputs": [],
   "source": [
    "X_train = X_train / 255\n",
    "X_test = X_test / 255"
   ]
  },
  {
   "cell_type": "code",
   "execution_count": 11,
   "metadata": {},
   "outputs": [],
   "source": [
    "X_train_flattened = X_train.reshape(len(X_train), 28*28)\n",
    "X_test_flattened = X_test.reshape(len(X_test), 28*28)"
   ]
  },
  {
   "cell_type": "code",
   "execution_count": 12,
   "metadata": {},
   "outputs": [
    {
     "data": {
      "text/plain": [
       "(60000, 784)"
      ]
     },
     "execution_count": 12,
     "metadata": {},
     "output_type": "execute_result"
    }
   ],
   "source": [
    "X_train_flattened.shape"
   ]
  },
  {
   "cell_type": "markdown",
   "metadata": {},
   "source": [
    "<h3 style='color:purple'>Using Flatten layer so that we don't have to call .reshape on input dataset</h3>"
   ]
  },
  {
   "cell_type": "code",
   "execution_count": 14,
   "metadata": {},
   "outputs": [
    {
     "name": "stderr",
     "output_type": "stream",
     "text": [
      "C:\\Users\\Admin\\anaconda3\\Lib\\site-packages\\keras\\src\\layers\\reshaping\\flatten.py:37: UserWarning: Do not pass an `input_shape`/`input_dim` argument to a layer. When using Sequential models, prefer using an `Input(shape)` object as the first layer in the model instead.\n",
      "  super().__init__(**kwargs)\n"
     ]
    },
    {
     "name": "stdout",
     "output_type": "stream",
     "text": [
      "Epoch 1/5\n",
      "\u001b[1m1875/1875\u001b[0m \u001b[32m━━━━━━━━━━━━━━━━━━━━\u001b[0m\u001b[37m\u001b[0m \u001b[1m9s\u001b[0m 4ms/step - accuracy: 0.8697 - loss: 0.4630\n",
      "Epoch 2/5\n",
      "\u001b[1m1875/1875\u001b[0m \u001b[32m━━━━━━━━━━━━━━━━━━━━\u001b[0m\u001b[37m\u001b[0m \u001b[1m8s\u001b[0m 4ms/step - accuracy: 0.9620 - loss: 0.1265\n",
      "Epoch 3/5\n",
      "\u001b[1m1875/1875\u001b[0m \u001b[32m━━━━━━━━━━━━━━━━━━━━\u001b[0m\u001b[37m\u001b[0m \u001b[1m7s\u001b[0m 4ms/step - accuracy: 0.9743 - loss: 0.0852\n",
      "Epoch 4/5\n",
      "\u001b[1m1875/1875\u001b[0m \u001b[32m━━━━━━━━━━━━━━━━━━━━\u001b[0m\u001b[37m\u001b[0m \u001b[1m7s\u001b[0m 4ms/step - accuracy: 0.9802 - loss: 0.0657\n",
      "Epoch 5/5\n",
      "\u001b[1m1875/1875\u001b[0m \u001b[32m━━━━━━━━━━━━━━━━━━━━\u001b[0m\u001b[37m\u001b[0m \u001b[1m7s\u001b[0m 4ms/step - accuracy: 0.9848 - loss: 0.0501\n"
     ]
    },
    {
     "data": {
      "text/plain": [
       "<keras.src.callbacks.history.History at 0x1fa5adce600>"
      ]
     },
     "execution_count": 14,
     "metadata": {},
     "output_type": "execute_result"
    }
   ],
   "source": [
    "model = keras.Sequential([\n",
    "    keras.layers.Flatten(input_shape=(28, 28)),\n",
    "    keras.layers.Dense(100, activation='relu'),\n",
    "    keras.layers.Dense(10, activation='sigmoid')\n",
    "])\n",
    "\n",
    "model.compile(optimizer='adam',\n",
    "              loss='sparse_categorical_crossentropy',\n",
    "              metrics=['accuracy'])\n",
    "\n",
    "tb_callback = tf.keras.callbacks.TensorBoard(log_dir=\"logs/\", histogram_freq=1)\n",
    "\n",
    "model.fit(X_train, y_train, epochs=5, callbacks=[tb_callback])"
   ]
  },
  {
   "cell_type": "code",
   "execution_count": 15,
   "metadata": {},
   "outputs": [],
   "source": [
    "# %load_ext tensorboard\n",
    "# %tensorboard --logdir logs/fit"
   ]
  },
  {
   "cell_type": "markdown",
   "metadata": {},
   "source": [
    "Either run above inline magic or go to git bash or your command prompt and type below to run it,\n",
    "`tensorboard --logdir logs/`\n",
    "This will launch tensorboard at this url which you can open in your browser `http://localhost:6006/`"
   ]
  },
  {
   "cell_type": "code",
   "execution_count": 17,
   "metadata": {},
   "outputs": [
    {
     "data": {
      "text/plain": [
       "[array([[ 0.03001767,  0.03129199, -0.04639865, ...,  0.07602397,\n",
       "         -0.03081349, -0.04326812],\n",
       "        [ 0.05111988, -0.0806273 ,  0.06139861, ..., -0.04207706,\n",
       "          0.04353639, -0.06405814],\n",
       "        [-0.00789211,  0.01641131, -0.05681146, ...,  0.02108306,\n",
       "         -0.00362502, -0.03377028],\n",
       "        ...,\n",
       "        [-0.04337348,  0.08109249,  0.00103485, ..., -0.06951015,\n",
       "         -0.02638506,  0.00324897],\n",
       "        [ 0.06789148,  0.02050848, -0.01304138, ...,  0.05407436,\n",
       "          0.02283429, -0.02000974],\n",
       "        [-0.04574325, -0.07515234,  0.0379633 , ...,  0.01523186,\n",
       "         -0.02592264,  0.0570491 ]], dtype=float32),\n",
       " array([ 0.0204905 ,  0.13987236,  0.15655746,  0.01730761,  0.06148824,\n",
       "        -0.03271354,  0.06260909, -0.14870775,  0.07438342,  0.11599087,\n",
       "         0.01730685, -0.01936482,  0.05592813, -0.00526026, -0.12554216,\n",
       "        -0.0212536 ,  0.08675691,  0.06670192, -0.02522797,  0.01710476,\n",
       "         0.10859086, -0.01180353,  0.08669147,  0.16839942,  0.02383327,\n",
       "        -0.0109916 ,  0.08605292,  0.00268366,  0.06704283, -0.08997281,\n",
       "         0.00754592,  0.05661351, -0.03247688,  0.02957092, -0.08556725,\n",
       "        -0.08597165,  0.12083916,  0.02367353,  0.1495867 , -0.00248591,\n",
       "         0.14696188,  0.06258027,  0.06055269,  0.0133187 ,  0.10587894,\n",
       "         0.02594148, -0.04771771,  0.05043032,  0.04408725, -0.05000158,\n",
       "        -0.03026483, -0.08992819, -0.05113117,  0.00581636,  0.01355852,\n",
       "         0.1693578 ,  0.04453789, -0.05605062,  0.0417493 ,  0.09036388,\n",
       "        -0.00257609,  0.01576114,  0.07039262,  0.03704122, -0.00559894,\n",
       "        -0.01223402, -0.00701709,  0.09682935,  0.0203163 ,  0.04370107,\n",
       "         0.07214116,  0.16789527,  0.0113829 ,  0.14266396,  0.1763532 ,\n",
       "         0.00436293,  0.18227911, -0.08908681,  0.13800885,  0.16728254,\n",
       "         0.0234147 ,  0.06034609,  0.1673455 ,  0.05043489,  0.08321655,\n",
       "         0.10916881,  0.00268787,  0.07191121, -0.10413711,  0.06332284,\n",
       "         0.1316394 , -0.02548131, -0.0416012 , -0.01484853,  0.18447033,\n",
       "        -0.05114242, -0.18196307, -0.06126737, -0.03245976,  0.03689109],\n",
       "       dtype=float32),\n",
       " array([[-1.45554915e-01,  3.39986086e-01,  3.59947383e-01,\n",
       "         -1.31233677e-01,  2.20448554e-01, -6.74990296e-01,\n",
       "         -1.34865865e-01, -7.12338760e-02,  1.98900133e-01,\n",
       "         -3.74420196e-01],\n",
       "        [-3.73742908e-01,  2.34245304e-02, -3.43164839e-02,\n",
       "         -4.30615604e-01, -6.14925385e-01,  6.02686703e-01,\n",
       "          5.81230596e-02,  2.19702601e-01, -2.19252661e-01,\n",
       "          2.42127523e-01],\n",
       "        [-2.70664781e-01, -2.24771217e-01, -7.11847544e-02,\n",
       "          1.58067808e-01,  2.04963714e-01, -1.92053631e-01,\n",
       "         -3.23423207e-01,  3.15964550e-01, -5.76458573e-01,\n",
       "          2.19739869e-01],\n",
       "        [-1.05275679e-02, -3.01149100e-01,  1.33533567e-01,\n",
       "          2.07320184e-01,  1.50815845e-02,  1.30878136e-01,\n",
       "          1.57021552e-01, -5.85988283e-01, -1.22194849e-01,\n",
       "         -1.48796141e-01],\n",
       "        [-3.95088911e-01, -2.99724996e-01, -1.57570653e-02,\n",
       "          8.50925818e-02, -7.18270987e-02,  7.93928504e-02,\n",
       "         -3.35793108e-01,  2.07358077e-01, -1.15706444e-01,\n",
       "          1.45669550e-01],\n",
       "        [ 3.27764958e-01, -9.54226702e-02,  2.27751285e-01,\n",
       "          5.37634939e-02, -1.80355340e-01, -1.95839062e-01,\n",
       "         -1.63750932e-01,  1.47832617e-01,  2.73734838e-01,\n",
       "         -2.17360243e-01],\n",
       "        [ 1.83095150e-02, -1.53846681e-01, -4.82759655e-01,\n",
       "         -6.70182347e-01,  3.55424583e-01,  2.31337145e-01,\n",
       "          3.31394464e-01, -2.50514209e-01,  1.91876203e-01,\n",
       "          2.91676253e-01],\n",
       "        [-3.14597897e-02,  3.22882712e-01,  9.31010917e-02,\n",
       "          2.15958372e-01,  3.34714592e-01, -6.98006332e-01,\n",
       "         -3.35357934e-01,  1.05798863e-01,  9.19823814e-03,\n",
       "         -1.39034614e-01],\n",
       "        [ 2.27766886e-01,  2.97391554e-04, -9.99899805e-02,\n",
       "         -3.40773374e-01,  8.63182843e-02, -3.76531601e-01,\n",
       "          1.41991833e-02,  2.54618347e-01, -4.88810301e-01,\n",
       "          1.94489777e-01],\n",
       "        [-7.52513409e-02, -4.00821149e-01,  5.48684120e-01,\n",
       "         -2.79294193e-01,  2.08459601e-01, -1.40288532e-01,\n",
       "         -8.91738292e-03, -3.64186496e-01, -5.52147269e-01,\n",
       "         -2.04019874e-01],\n",
       "        [-5.54095566e-01,  1.75388709e-01,  2.98046261e-01,\n",
       "          4.44449842e-01,  2.57370055e-01, -8.11559975e-01,\n",
       "         -2.27760211e-01,  9.44606140e-02, -2.37051379e-02,\n",
       "         -4.18160141e-01],\n",
       "        [-5.62809467e-01,  1.53216407e-01,  1.15702726e-01,\n",
       "          2.13751867e-01,  7.58831576e-02,  5.26643917e-02,\n",
       "         -8.17271546e-02, -2.15227559e-01,  2.42457539e-01,\n",
       "          1.96538568e-02],\n",
       "        [-4.75118250e-01,  1.35512799e-01, -1.15903892e-01,\n",
       "          2.19880924e-01,  8.91556777e-03,  2.10864961e-01,\n",
       "         -3.22052330e-01,  2.03432411e-01,  2.74355143e-01,\n",
       "          2.18918234e-01],\n",
       "        [-1.57413125e-01, -2.13547453e-01,  8.39730576e-02,\n",
       "          1.13658890e-01,  6.24068864e-02, -7.21552745e-02,\n",
       "          4.38400730e-02,  8.75776187e-02,  1.12325892e-01,\n",
       "          6.36416450e-02],\n",
       "        [ 1.24686271e-01, -5.42267919e-01, -1.18931472e-01,\n",
       "         -7.07571507e-02, -2.36211214e-02, -9.15641487e-01,\n",
       "          4.37280089e-02, -2.58271307e-01,  9.02497694e-02,\n",
       "          3.35622072e-01],\n",
       "        [ 9.87458080e-02,  1.97875783e-01, -2.38734439e-01,\n",
       "          1.41441792e-01,  3.21767479e-02,  2.13514134e-01,\n",
       "          3.73561382e-01, -2.18722939e-01,  1.62446037e-01,\n",
       "         -2.73160964e-01],\n",
       "        [-8.12189162e-01,  4.88982797e-01, -5.47983050e-01,\n",
       "         -1.00500718e-01, -3.36182415e-01,  4.37639713e-01,\n",
       "          5.26565388e-02,  1.94134653e-01, -3.14343601e-01,\n",
       "         -6.80642948e-02],\n",
       "        [-1.30996168e-01,  1.83831498e-01, -6.98939443e-01,\n",
       "         -3.20758820e-01,  1.89927518e-01,  9.41298530e-02,\n",
       "          1.32009983e-01,  4.39314209e-02, -5.74330032e-01,\n",
       "          2.20798194e-01],\n",
       "        [ 1.38809994e-01, -2.67876804e-01,  2.31071457e-01,\n",
       "          1.59750015e-01, -8.71618763e-02,  1.49063766e-01,\n",
       "          1.91413820e-01, -2.47309312e-01, -3.44572663e-01,\n",
       "          3.97329837e-01],\n",
       "        [-1.13000162e-01,  1.36747897e-01,  2.31119558e-01,\n",
       "         -1.84082106e-01, -4.49344935e-03, -4.79823381e-01,\n",
       "         -4.51294333e-01,  1.88499033e-01,  3.57805975e-02,\n",
       "          9.64412093e-02],\n",
       "        [-3.80833358e-01,  2.32631147e-01,  2.47858837e-01,\n",
       "         -2.07711637e-01,  2.35779658e-01,  1.29173070e-01,\n",
       "         -6.81218281e-02, -1.97457463e-01, -1.68792635e-01,\n",
       "         -6.44873381e-01],\n",
       "        [-1.89740703e-01,  4.97116474e-03, -2.22215116e-01,\n",
       "          1.78628057e-01, -1.03109285e-01,  3.19016092e-02,\n",
       "          2.03097478e-01, -1.91339493e-01,  2.35232517e-01,\n",
       "         -3.08298975e-01],\n",
       "        [ 9.00775716e-02,  3.55844080e-01,  2.27381736e-01,\n",
       "         -2.98580736e-01,  2.04086438e-01, -1.45006239e-01,\n",
       "          1.57322362e-01, -4.52340275e-01, -6.86239451e-02,\n",
       "         -2.54911095e-01],\n",
       "        [ 2.38434047e-01, -4.72951606e-02, -3.74341518e-01,\n",
       "         -2.69067347e-01, -8.75327736e-02,  2.16420770e-01,\n",
       "          1.24560721e-01,  6.45935476e-01, -8.29757631e-01,\n",
       "         -2.38653436e-01],\n",
       "        [-3.88610661e-02,  2.83647388e-01,  2.22482562e-01,\n",
       "         -2.33824119e-01,  1.88342661e-01, -3.76051247e-01,\n",
       "          1.07212223e-01,  2.69055337e-01, -4.74543050e-02,\n",
       "         -7.75364399e-01],\n",
       "        [ 4.38078679e-02, -5.44221222e-01, -2.47465566e-01,\n",
       "         -2.92679995e-01, -2.09020246e-02,  1.42679289e-01,\n",
       "          1.22553840e-01, -7.47048333e-02,  1.39596626e-01,\n",
       "          1.94117680e-01],\n",
       "        [-1.11267334e-02, -1.44878000e-01,  5.06165743e-01,\n",
       "         -1.90675184e-01, -6.14596009e-01,  1.79128185e-01,\n",
       "          1.16489135e-01,  1.63043901e-01,  5.02081402e-02,\n",
       "         -3.09781671e-01],\n",
       "        [ 2.50823617e-01, -4.74218935e-01, -4.75781597e-02,\n",
       "         -2.40032464e-01,  4.23417240e-02, -1.35905027e-01,\n",
       "          1.57814696e-01, -2.37824038e-01,  1.10914022e-01,\n",
       "          2.67581753e-02],\n",
       "        [-5.59071183e-01,  1.73751101e-01, -3.24446321e-01,\n",
       "         -2.83510000e-01,  2.79423725e-02, -9.19680446e-02,\n",
       "         -3.81894320e-01,  1.70843810e-01,  1.33928224e-01,\n",
       "         -9.20834839e-02],\n",
       "        [-5.07098772e-02, -1.69304416e-01,  9.59435850e-02,\n",
       "          1.99633930e-02, -2.03244030e-01, -2.79635280e-01,\n",
       "         -2.12524652e-01, -9.89344064e-03,  1.49074078e-01,\n",
       "          1.89389795e-01],\n",
       "        [ 1.69629604e-01, -4.58651245e-01,  5.40204532e-02,\n",
       "         -5.61183244e-02,  1.44826874e-01,  4.30508032e-02,\n",
       "         -6.55739084e-02, -2.76546329e-01,  2.97028162e-02,\n",
       "         -1.96274340e-01],\n",
       "        [ 1.77743867e-01,  2.65131205e-01, -4.10297334e-01,\n",
       "          1.30916685e-01, -3.64891320e-01,  3.43818702e-02,\n",
       "         -2.78459609e-01,  1.56557649e-01, -1.66384727e-01,\n",
       "         -3.57006639e-01],\n",
       "        [ 6.91763461e-02,  1.08846284e-01,  1.22284189e-01,\n",
       "          2.15642288e-01, -1.37956738e-01,  4.99462001e-02,\n",
       "         -1.02024354e-01, -3.33879352e-01,  2.07348436e-01,\n",
       "         -2.70526499e-01],\n",
       "        [ 6.38606548e-02, -1.31183133e-01, -4.58465181e-02,\n",
       "          6.36431128e-02, -1.13435067e-01, -4.26102340e-01,\n",
       "         -2.56815255e-01,  1.85599625e-01, -1.81753635e-02,\n",
       "          2.45468050e-01],\n",
       "        [-3.68109494e-01,  3.90043944e-01, -5.31387985e-01,\n",
       "          1.49723068e-01,  2.81379968e-01, -1.96797192e-01,\n",
       "         -4.86947954e-01,  1.29288889e-03,  9.06294659e-02,\n",
       "          1.66449826e-02],\n",
       "        [-4.73168075e-01, -5.71632981e-01, -4.41626877e-01,\n",
       "          3.57753336e-01,  9.23061296e-02,  4.58705902e-01,\n",
       "         -5.20652711e-01, -7.01221168e-01, -3.65360379e-01,\n",
       "          2.17364207e-01],\n",
       "        [-3.44108284e-01,  2.00925812e-01,  3.95596623e-01,\n",
       "         -3.82925630e-01, -9.72570851e-02,  6.94301277e-02,\n",
       "          2.25366265e-01, -1.76141307e-01,  1.61502883e-01,\n",
       "          1.27271295e-01],\n",
       "        [ 6.12304918e-02, -1.34176239e-01,  3.04537475e-01,\n",
       "         -8.20276365e-02, -6.53071046e-01,  1.35937557e-01,\n",
       "         -2.10095141e-02, -1.25595123e-01,  5.54724075e-02,\n",
       "          1.33101091e-01],\n",
       "        [ 3.39744985e-02, -2.70611942e-02, -1.58253238e-01,\n",
       "         -4.95825782e-02, -5.70340931e-01,  1.11850493e-01,\n",
       "          9.00315959e-03,  3.77615303e-01, -2.88771212e-01,\n",
       "         -5.02454758e-01],\n",
       "        [ 2.59821057e-01, -1.90965384e-01, -4.39007759e-01,\n",
       "         -1.14233606e-03, -2.18517303e-01,  2.85219043e-01,\n",
       "          4.62426424e-01, -2.98670083e-01, -3.96733880e-01,\n",
       "         -4.66317356e-01],\n",
       "        [ 2.52955630e-02, -6.50861263e-01, -8.37168396e-02,\n",
       "         -2.47446537e-01, -7.73372427e-02,  9.59848762e-02,\n",
       "          1.25416175e-01, -5.50138205e-02,  5.37579646e-03,\n",
       "         -2.22500935e-01],\n",
       "        [-2.54024118e-01, -5.03512084e-01, -2.72090763e-01,\n",
       "          4.44816276e-02,  8.91841128e-02,  1.35260060e-01,\n",
       "          4.44088653e-02,  1.61262974e-02,  2.58506715e-01,\n",
       "          8.05167779e-02],\n",
       "        [-4.14551258e-01, -3.37855369e-01, -2.03394324e-01,\n",
       "          1.49466679e-01,  5.78938067e-01,  1.05098851e-01,\n",
       "         -4.03284132e-01,  5.09056002e-02, -3.74385417e-01,\n",
       "          2.19473779e-01],\n",
       "        [ 3.51600826e-01, -4.01478633e-02,  2.43147507e-01,\n",
       "          2.20771551e-01, -1.11181021e+00,  2.59155869e-01,\n",
       "         -1.09785110e-01, -1.80064276e-01, -1.74301982e-01,\n",
       "         -7.39310905e-02],\n",
       "        [-4.51032370e-02,  8.12683821e-01, -3.57844621e-01,\n",
       "         -6.19714499e-01,  5.97322345e-01, -2.66676918e-02,\n",
       "          1.54875740e-02, -2.22560972e-01, -6.73814297e-01,\n",
       "         -5.22816002e-01],\n",
       "        [-7.54355490e-02, -3.33016634e-01, -2.00037271e-01,\n",
       "         -1.61640748e-01,  1.29921250e-02,  1.08825721e-01,\n",
       "          3.08855157e-02, -7.71939605e-02,  2.34423742e-01,\n",
       "          7.02044889e-02],\n",
       "        [-4.89077181e-01, -2.03210697e-01,  1.03313625e-02,\n",
       "         -2.47538388e-01,  3.52594554e-01,  2.62131430e-02,\n",
       "         -3.95297319e-01, -3.99776965e-01,  2.60164917e-01,\n",
       "          9.83550921e-02],\n",
       "        [-3.75974849e-02,  2.50816107e-01, -9.26693082e-02,\n",
       "          3.07451844e-01,  1.89578384e-01,  1.55234367e-01,\n",
       "         -6.75774932e-01,  1.25666574e-01, -3.95658463e-01,\n",
       "          2.04023067e-02],\n",
       "        [-4.08409774e-01, -2.56750230e-02,  5.91192603e-01,\n",
       "         -2.55537331e-01, -1.50846183e-01,  1.37503475e-01,\n",
       "         -9.77762938e-02,  2.79031694e-01,  4.14881945e-01,\n",
       "         -9.54884171e-01],\n",
       "        [ 9.64273661e-02,  2.67499685e-01,  3.48881751e-01,\n",
       "          3.76633644e-01,  3.60476673e-01, -8.21595490e-01,\n",
       "         -5.59786558e-01,  3.18698823e-01, -3.77918244e-03,\n",
       "          1.33501530e-01],\n",
       "        [ 1.51228964e-01, -3.62329125e-01, -1.58661976e-02,\n",
       "         -6.25327900e-02, -6.21702010e-03, -2.53496617e-02,\n",
       "         -1.43207848e-01, -1.47439271e-01,  1.46290511e-01,\n",
       "          7.30079710e-02],\n",
       "        [-1.34173408e-01, -7.97720253e-02, -2.72171319e-01,\n",
       "          2.52215892e-01,  2.03355737e-02, -2.65112698e-01,\n",
       "         -5.46872139e-01,  1.55006021e-01,  1.05643971e-02,\n",
       "          1.47353942e-02],\n",
       "        [ 2.28611365e-01, -4.15101349e-01,  1.13450468e-01,\n",
       "          9.32713822e-02,  1.65330261e-01, -1.56742349e-01,\n",
       "          2.58785754e-01, -4.48340654e-01, -1.02783106e-01,\n",
       "          2.63393462e-01],\n",
       "        [ 1.59177825e-01, -3.23461771e-01,  6.19476549e-02,\n",
       "         -2.53942460e-01,  1.28727347e-01,  7.32047856e-03,\n",
       "         -2.31218636e-01,  1.35765463e-01,  2.43310437e-01,\n",
       "          1.00084394e-01],\n",
       "        [ 1.15878405e-02,  1.70518234e-01,  4.55288254e-02,\n",
       "          6.69925213e-02,  2.04634983e-02, -2.75728077e-01,\n",
       "          3.75164390e-01,  3.52165997e-01, -1.23385109e-01,\n",
       "         -7.66580641e-01],\n",
       "        [ 7.31608048e-02,  4.50628012e-01,  1.64864540e-01,\n",
       "         -6.45277858e-01,  3.35510105e-01, -5.94789088e-02,\n",
       "         -6.64106943e-03,  4.93195415e-01, -3.52582604e-01,\n",
       "          7.58649483e-02],\n",
       "        [ 3.16391319e-01, -4.77688998e-01, -1.86893627e-01,\n",
       "         -2.16783106e-01, -4.06035453e-01, -1.33266076e-01,\n",
       "         -6.82009459e-02,  9.52567384e-02,  1.71949476e-01,\n",
       "          9.49620083e-02],\n",
       "        [ 3.54763716e-01, -2.87842125e-01, -5.03062963e-01,\n",
       "          2.14293405e-01, -7.85683319e-02,  8.72357786e-02,\n",
       "          1.64709672e-01, -3.67510021e-01,  2.77599305e-01,\n",
       "          2.93456972e-01],\n",
       "        [-2.44936749e-01,  7.82998875e-02,  2.26190969e-01,\n",
       "          1.51980147e-01, -2.64907926e-01,  1.60407871e-01,\n",
       "          2.41541743e-01,  1.18773051e-01,  2.07550347e-01,\n",
       "         -5.84118247e-01],\n",
       "        [ 5.63994460e-02,  3.72588709e-02, -1.33973092e-01,\n",
       "         -3.84112656e-01, -1.96919292e-02,  1.94635302e-01,\n",
       "         -3.11328232e-01, -2.32639790e-01,  2.12065205e-01,\n",
       "         -3.86195183e-02],\n",
       "        [-2.68807560e-01, -1.04719281e-01,  3.19522768e-01,\n",
       "          4.87662762e-01, -2.99867421e-01,  2.89077491e-01,\n",
       "         -7.24049628e-01,  5.68740489e-03, -4.20855731e-01,\n",
       "          5.07427789e-02],\n",
       "        [ 5.54829314e-02,  2.67694086e-01,  1.86342876e-02,\n",
       "         -3.04576606e-01,  3.48427266e-01, -7.85295606e-01,\n",
       "         -2.36921683e-01,  8.26142263e-03, -2.68338382e-01,\n",
       "         -1.61296844e-01],\n",
       "        [-2.75727034e-01,  3.43539596e-01,  4.86146845e-02,\n",
       "         -2.45045125e-01,  1.88476771e-01, -2.35983282e-01,\n",
       "          2.11850315e-01, -3.51453841e-01,  1.29499566e-02,\n",
       "         -3.77670377e-01],\n",
       "        [ 9.22133923e-02, -1.94596082e-01,  7.50358030e-03,\n",
       "          1.65148154e-01, -3.27068359e-01, -5.10648072e-01,\n",
       "          2.39098534e-01,  1.00517891e-01, -2.07837567e-01,\n",
       "          2.91649133e-01],\n",
       "        [ 1.93553790e-01,  1.10949334e-02,  1.31136939e-01,\n",
       "         -2.23150492e-01,  2.35953078e-01, -4.48885351e-01,\n",
       "         -2.91809857e-01,  9.36214179e-02, -9.55636054e-03,\n",
       "          1.84803516e-01],\n",
       "        [ 2.16861531e-01, -7.98339128e-01, -4.83232021e-01,\n",
       "          1.70484409e-01, -7.60550722e-02,  2.80598015e-01,\n",
       "          4.99729589e-02, -3.80764633e-01,  1.02660879e-02,\n",
       "         -5.74096851e-02],\n",
       "        [-2.72952188e-02,  5.41831106e-02, -1.37511104e-01,\n",
       "         -1.18334377e-02, -7.57566169e-02, -9.53062177e-02,\n",
       "          2.06845790e-01, -2.54737228e-01,  1.98211014e-01,\n",
       "          1.30862758e-01],\n",
       "        [-1.01153247e-01, -3.85657027e-02, -8.14264297e-01,\n",
       "          3.42281878e-01, -1.32152468e-01,  2.85866588e-01,\n",
       "          1.54332556e-02,  7.40827993e-02,  5.92867211e-02,\n",
       "          1.31352097e-01],\n",
       "        [-7.26235926e-01,  4.36770439e-01, -3.68123740e-01,\n",
       "          9.52089652e-02, -7.50824586e-02,  1.84959456e-01,\n",
       "         -7.40960598e-01, -4.55956042e-01, -3.30905944e-01,\n",
       "          2.65473664e-01],\n",
       "        [-3.33080262e-01,  1.68338139e-02, -2.24197850e-01,\n",
       "         -6.41996920e-01,  1.51606634e-01, -1.46304414e-01,\n",
       "          3.11375428e-02, -1.04942154e-02,  6.16261847e-02,\n",
       "         -1.87432155e-01],\n",
       "        [-4.81388241e-01,  2.21126810e-01, -7.77971670e-02,\n",
       "         -2.74214506e-01,  8.45396221e-02,  1.36757223e-02,\n",
       "          7.22516701e-02, -4.75780457e-01,  1.95032537e-01,\n",
       "          1.21092767e-01],\n",
       "        [-1.06368393e-01, -3.92435975e-02,  2.22444341e-01,\n",
       "         -1.53118253e-01, -6.90674067e-01,  5.25414869e-02,\n",
       "          5.75124741e-01,  7.92142302e-02, -1.10306032e-01,\n",
       "          1.00045949e-01],\n",
       "        [-6.79404199e-01,  8.30239207e-02, -4.45698291e-01,\n",
       "          1.73208594e-01, -1.93004519e-01,  2.68005997e-01,\n",
       "          2.70164400e-01, -5.60418703e-02,  1.68373182e-01,\n",
       "         -2.34601691e-01],\n",
       "        [-5.45561194e-01,  3.87602568e-01,  1.14787281e-01,\n",
       "          5.00920296e-01, -1.31391525e-01,  3.45684290e-01,\n",
       "         -3.94309491e-01, -5.20415306e-01,  3.24669853e-02,\n",
       "         -2.72167958e-02],\n",
       "        [ 2.48600438e-01, -6.30724311e-01,  6.07274115e-01,\n",
       "          1.63604058e-02, -2.69627243e-01,  2.35104859e-01,\n",
       "         -4.40262109e-01,  1.21915609e-01, -5.93320966e-01,\n",
       "         -2.39966601e-01],\n",
       "        [ 1.27212942e-01,  3.05369228e-01, -2.19840273e-01,\n",
       "          5.50755225e-02, -1.50193557e-01, -3.22089791e-01,\n",
       "          4.21825469e-01,  1.25702545e-01, -5.43655932e-01,\n",
       "          1.88898236e-01],\n",
       "        [-2.58520931e-01,  3.92831922e-01, -6.04838543e-02,\n",
       "         -3.92357975e-01, -3.64515007e-01,  3.99904996e-01,\n",
       "          1.10131338e-01, -5.16486354e-02, -5.26884854e-01,\n",
       "         -1.12996399e-01],\n",
       "        [-1.36726797e-01,  1.64872352e-02,  3.72623235e-01,\n",
       "          4.21245813e-01, -7.77875483e-01, -3.84884953e-01,\n",
       "         -7.33334839e-01,  5.65450072e-01, -4.17352468e-01,\n",
       "         -6.37891531e-01],\n",
       "        [-9.03980434e-02, -2.28985012e-01,  1.82750538e-01,\n",
       "         -3.92824382e-01,  1.02202699e-01,  3.06607038e-01,\n",
       "          3.29020739e-01, -2.36295968e-01,  2.29599342e-01,\n",
       "         -1.74130440e-01],\n",
       "        [ 1.04575224e-01, -3.82163107e-01, -3.67159024e-02,\n",
       "         -7.60883000e-03, -3.25341046e-01,  2.91086257e-01,\n",
       "         -2.14961827e-01,  2.16465876e-01, -1.33605719e-01,\n",
       "          2.27991920e-02],\n",
       "        [ 4.00593370e-01, -6.29068911e-01,  2.25638941e-01,\n",
       "          2.52776116e-01, -1.69782668e-01,  1.99985430e-01,\n",
       "         -9.30855125e-02,  1.69667453e-01,  1.45916000e-03,\n",
       "         -4.19651791e-02],\n",
       "        [ 3.78653035e-02, -1.82090640e-01, -2.99036086e-01,\n",
       "         -6.35767162e-01,  5.79984307e-01,  1.40599966e-01,\n",
       "          2.79350340e-01, -1.65610939e-01, -4.10243459e-02,\n",
       "         -5.85458875e-01],\n",
       "        [ 1.98045131e-02,  2.30052292e-01, -1.73401803e-01,\n",
       "         -5.78316391e-01, -1.46231819e-02,  3.34805161e-01,\n",
       "          1.01179972e-01,  3.06578100e-01, -1.78506181e-01,\n",
       "          1.45942420e-01],\n",
       "        [ 1.81711301e-01,  4.07494381e-02,  2.48777419e-01,\n",
       "          1.30758986e-01, -7.60133922e-01,  1.76605716e-01,\n",
       "          1.87536888e-02, -8.05360675e-02, -1.54446974e-01,\n",
       "         -3.92228305e-01],\n",
       "        [-3.45172226e-01,  1.40452430e-01, -2.35294197e-02,\n",
       "          2.63325006e-01, -1.81887552e-01,  4.52526808e-01,\n",
       "         -4.00804579e-01, -1.81699321e-01, -4.53569472e-01,\n",
       "          4.65099663e-01],\n",
       "        [-3.49962920e-01, -4.21126150e-02,  1.47521794e-01,\n",
       "         -4.41805184e-01,  2.21449167e-01, -4.82004285e-01,\n",
       "         -1.04149483e-01,  3.52767289e-01, -3.48155737e-01,\n",
       "          1.36909515e-01],\n",
       "        [ 2.04608917e-01,  1.12931184e-01,  2.04191774e-01,\n",
       "         -3.85258868e-02,  3.39588597e-02, -7.69478753e-02,\n",
       "          2.57258177e-01, -3.46439898e-01,  1.23102196e-01,\n",
       "         -3.46817166e-01],\n",
       "        [ 3.18624169e-01,  1.80529833e-01,  3.07207435e-01,\n",
       "         -2.93884367e-01,  1.46050915e-01, -8.11762810e-02,\n",
       "          5.68185858e-02, -1.94605187e-01,  1.63954481e-01,\n",
       "         -1.22526668e-01],\n",
       "        [-5.49322724e-01,  1.38860837e-01,  3.06544095e-01,\n",
       "          2.52664953e-01, -1.76517457e-01, -2.06601676e-02,\n",
       "         -4.92421925e-01,  4.23312575e-01,  9.89817679e-02,\n",
       "         -4.43953991e-01],\n",
       "        [-4.02747363e-01, -1.81978449e-01,  6.18556933e-03,\n",
       "          2.62947232e-01,  1.36728570e-01,  5.78840300e-02,\n",
       "         -1.26727447e-01,  2.73659199e-01, -8.00481617e-01,\n",
       "          1.64549977e-01],\n",
       "        [ 1.57518640e-01,  8.89209285e-02, -6.65060133e-02,\n",
       "          6.71538115e-02,  2.29532778e-01,  4.81358171e-01,\n",
       "         -2.44461730e-01,  3.73804808e-01, -4.50017124e-01,\n",
       "         -5.67014635e-01],\n",
       "        [ 1.49202859e-02, -2.91877896e-01,  1.20632589e-01,\n",
       "         -2.53855456e-02, -5.13170183e-01,  1.00984715e-01,\n",
       "         -3.54920954e-01, -2.55512923e-01,  1.44768387e-01,\n",
       "          3.12218964e-01],\n",
       "        [-3.52269113e-01, -2.43151069e-01,  5.08702025e-02,\n",
       "         -1.92121714e-01,  1.57499701e-01, -7.60009289e-02,\n",
       "         -5.09665191e-01,  5.99678874e-01,  1.02416895e-01,\n",
       "         -4.19620693e-01],\n",
       "        [-4.33728307e-01,  7.27460310e-02,  2.51705050e-01,\n",
       "          1.67557269e-01, -1.88656032e-01,  1.10267587e-01,\n",
       "         -2.31329858e-01, -5.80657303e-01,  1.67734921e-01,\n",
       "          1.13086551e-01],\n",
       "        [-7.24167049e-01, -2.95487553e-01, -2.37978935e-01,\n",
       "          1.91104501e-01,  3.01538944e-01,  3.43680859e-01,\n",
       "         -5.04383624e-01,  2.35198483e-01,  7.46009126e-02,\n",
       "          2.19872445e-01],\n",
       "        [ 1.94920734e-01,  1.58561945e-01, -9.42498446e-02,\n",
       "          6.12675175e-02, -3.99872750e-01, -1.32655516e-01,\n",
       "         -2.50164479e-01, -7.70006031e-02,  6.72958121e-02,\n",
       "          1.18262693e-01],\n",
       "        [-1.60674870e-01, -1.05739146e-01,  3.92573513e-02,\n",
       "          3.11940491e-01, -3.16106737e-01, -3.99462700e-01,\n",
       "         -2.52422094e-02, -8.08217004e-02,  1.66957930e-01,\n",
       "          6.43440709e-02],\n",
       "        [ 2.65726805e-01, -2.13819578e-01, -1.14891306e-01,\n",
       "          4.13762063e-01, -5.87051511e-01,  7.00758025e-02,\n",
       "          2.02170104e-01, -5.58193773e-02, -2.38529474e-01,\n",
       "         -3.87388915e-01],\n",
       "        [ 3.07036340e-01,  2.61209071e-01, -1.59516931e-01,\n",
       "         -2.92548031e-01,  2.78451860e-01, -6.37132049e-01,\n",
       "         -9.72962528e-02, -1.65375262e-01,  2.58882418e-02,\n",
       "          4.76233810e-01],\n",
       "        [-4.82066095e-01,  3.40410741e-03, -3.43221873e-01,\n",
       "          1.00487486e-01, -7.75691748e-01,  2.87431151e-01,\n",
       "          1.72413409e-01,  2.84773946e-01,  1.19776763e-01,\n",
       "         -1.62035584e-01]], dtype=float32),\n",
       " array([-0.09530097,  0.00792668,  0.02033507, -0.1068686 , -0.05539672,\n",
       "         0.05922303,  0.03359158, -0.0002857 ,  0.06646577,  0.03622378],\n",
       "       dtype=float32)]"
      ]
     },
     "execution_count": 17,
     "metadata": {},
     "output_type": "execute_result"
    }
   ],
   "source": [
    "model.get_weights()"
   ]
  },
  {
   "cell_type": "code",
   "execution_count": 31,
   "metadata": {},
   "outputs": [
    {
     "data": {
      "text/html": [
       "\n",
       "      <iframe id=\"tensorboard-frame-941b4680457e0422\" width=\"100%\" height=\"800\" frameborder=\"0\">\n",
       "      </iframe>\n",
       "      <script>\n",
       "        (function() {\n",
       "          const frame = document.getElementById(\"tensorboard-frame-941b4680457e0422\");\n",
       "          const url = new URL(\"/\", window.location);\n",
       "          const port = 6006;\n",
       "          if (port) {\n",
       "            url.port = port;\n",
       "          }\n",
       "          frame.src = url;\n",
       "        })();\n",
       "      </script>\n",
       "    "
      ],
      "text/plain": [
       "<IPython.core.display.HTML object>"
      ]
     },
     "metadata": {},
     "output_type": "display_data"
    }
   ],
   "source": [
    " %load_ext tensorboard\n",
    " %tensorboard --logdir logs/fit"
   ]
  },
  {
   "cell_type": "code",
   "execution_count": null,
   "metadata": {},
   "outputs": [],
   "source": []
  }
 ],
 "metadata": {
  "kernelspec": {
   "display_name": "Python 3 (ipykernel)",
   "language": "python",
   "name": "python3"
  },
  "language_info": {
   "codemirror_mode": {
    "name": "ipython",
    "version": 3
   },
   "file_extension": ".py",
   "mimetype": "text/x-python",
   "name": "python",
   "nbconvert_exporter": "python",
   "pygments_lexer": "ipython3",
   "version": "3.12.4"
  }
 },
 "nbformat": 4,
 "nbformat_minor": 4
}
